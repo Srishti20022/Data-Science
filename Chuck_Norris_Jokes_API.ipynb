{
  "nbformat": 4,
  "nbformat_minor": 0,
  "metadata": {
    "colab": {
      "name": "Chuck_Norris_Jokes_API.ipynb",
      "provenance": [],
      "authorship_tag": "ABX9TyPzPS3zSKgResEGMkrw9WVD",
      "include_colab_link": true
    },
    "kernelspec": {
      "name": "python3",
      "display_name": "Python 3"
    },
    "language_info": {
      "name": "python"
    }
  },
  "cells": [
    {
      "cell_type": "markdown",
      "metadata": {
        "id": "view-in-github",
        "colab_type": "text"
      },
      "source": [
        "<a href=\"https://colab.research.google.com/github/Srishti20022/Data-Science/blob/main/Chuck_Norris_Jokes_API.ipynb\" target=\"_parent\"><img src=\"https://colab.research.google.com/assets/colab-badge.svg\" alt=\"Open In Colab\"/></a>"
      ]
    },
    {
      "cell_type": "code",
      "metadata": {
        "colab": {
          "base_uri": "https://localhost:8080/"
        },
        "id": "_vGr54LqCd8R",
        "outputId": "9905d948-f1f0-480c-edb1-e655c37e6b9f"
      },
      "source": [
        "pip install pillow"
      ],
      "execution_count": null,
      "outputs": [
        {
          "output_type": "stream",
          "name": "stdout",
          "text": [
            "Requirement already satisfied: pillow in /usr/local/lib/python3.7/dist-packages (7.1.2)\n"
          ]
        }
      ]
    },
    {
      "cell_type": "code",
      "metadata": {
        "id": "hcsAMoRb2x3M"
      },
      "source": [
        "# https://api.chucknorris.io/jokes/random"
      ],
      "execution_count": null,
      "outputs": []
    },
    {
      "cell_type": "code",
      "metadata": {
        "colab": {
          "base_uri": "https://localhost:8080/"
        },
        "id": "lfpZZngy6i7o",
        "outputId": "bb08fc34-cdfe-4a37-e5d3-8bcdcb40231a"
      },
      "source": [
        "import requests\n",
        "url = \"https://api.chucknorris.io/jokes/random\"\n",
        "r = requests.get(url = url)\n",
        "# r.content\n",
        "data = r.json()\n",
        "data"
      ],
      "execution_count": null,
      "outputs": [
        {
          "output_type": "execute_result",
          "data": {
            "text/plain": [
              "{'categories': [],\n",
              " 'created_at': '2020-01-05 13:42:28.420821',\n",
              " 'icon_url': 'https://assets.chucknorris.host/img/avatar/chuck-norris.png',\n",
              " 'id': 'crvEXdYAScKBMc5_dG2UKA',\n",
              " 'updated_at': '2020-01-05 13:42:28.420821',\n",
              " 'url': 'https://api.chucknorris.io/jokes/crvEXdYAScKBMc5_dG2UKA',\n",
              " 'value': \"If you want to know if something is funny, just ask Chuck Norris. If he laughs, it's funny. If he doesn't, prepare to die, because you wasted his time.\"}"
            ]
          },
          "metadata": {},
          "execution_count": 2
        }
      ]
    },
    {
      "cell_type": "code",
      "metadata": {
        "colab": {
          "base_uri": "https://localhost:8080/",
          "height": 52
        },
        "id": "v862dMbW_rqR",
        "outputId": "217bdccd-0a37-4199-acde-b163004853f6"
      },
      "source": [
        "joke = data['value']\n",
        "joke"
      ],
      "execution_count": null,
      "outputs": [
        {
          "output_type": "execute_result",
          "data": {
            "application/vnd.google.colaboratory.intrinsic+json": {
              "type": "string"
            },
            "text/plain": [
              "\"If you want to know if something is funny, just ask Chuck Norris. If he laughs, it's funny. If he doesn't, prepare to die, because you wasted his time.\""
            ]
          },
          "metadata": {},
          "execution_count": 3
        }
      ]
    }
  ]
}